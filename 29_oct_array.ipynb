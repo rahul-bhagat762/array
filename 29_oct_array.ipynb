{
 "cells": [
  {
   "cell_type": "code",
   "execution_count": 57,
   "id": "cc67c057-ef41-4a23-bd19-400f856ff7f9",
   "metadata": {},
   "outputs": [],
   "source": [
    "# 1. Given an array, check if it contains any duplicates or not.\n",
    "# arr = [1, 2, 4, 2, 5, 9]\n",
    "# Output = True\n",
    "def check_duplicate(arr,n): #this function is used to check arr contain any duplicate element or not\n",
    "    arr.sort() ##first sort the arr then check a from its side element is equal then return true else return false\n",
    "    for i in range(0,n-1):\n",
    "        if(arr[i]==arr[i+1]):\n",
    "            return True\n",
    "    return False\n",
    "            "
   ]
  },
  {
   "cell_type": "code",
   "execution_count": 61,
   "id": "c09e4ed1-a4f1-4661-b396-9af61ed87610",
   "metadata": {},
   "outputs": [
    {
     "data": {
      "text/plain": [
       "True"
      ]
     },
     "execution_count": 61,
     "metadata": {},
     "output_type": "execute_result"
    }
   ],
   "source": [
    "arr = [1, 2, 4, 2, 5, 9]\n",
    "# arr = [1, 2, 4, 5, 9]\n",
    "n = len(arr)\n",
    "check_duplicate(arr,n)"
   ]
  },
  {
   "cell_type": "code",
   "execution_count": 96,
   "id": "749288d5-50fe-4825-b0df-95d113df98bc",
   "metadata": {},
   "outputs": [],
   "source": [
    "# 2. Given an array and an integer k, rotate the array to the right by k steps.\n",
    "# arr = [1, 2, 3, 4, 5, 6, 7] k = 3\n",
    "# Output = [5, 6, 7, 1, 2, 3, 4]\n",
    "def rotatefromright(arr,k): #this function is used to rotate element from right to left number of element which insert from left to right is given as k\n",
    "    ans = [] ##an ans list which is used to take ans \n",
    "    for i in range(len(arr)-k,len(arr)): ##in this line loop is run from len of arr - given number which says how many number rotate from right to left\n",
    "        ans.append(arr[i])\n",
    "    for i in range(0,len(arr)-k): ##0 to given number which says how many number rotate from right to left(k)\n",
    "        ans.append(arr[i])\n",
    "    return ans ##return ans\n",
    "\n",
    "        \n",
    "        "
   ]
  },
  {
   "cell_type": "code",
   "execution_count": 97,
   "id": "c7e02e74-18a5-4aca-a758-670fcda8edd5",
   "metadata": {},
   "outputs": [
    {
     "data": {
      "text/plain": [
       "[5, 6, 7, 1, 2, 3, 4]"
      ]
     },
     "execution_count": 97,
     "metadata": {},
     "output_type": "execute_result"
    }
   ],
   "source": [
    "arr = [1,2,3,4,5,6,7] \n",
    "k = 3\n",
    "rotatefromright(arr,k)"
   ]
  },
  {
   "cell_type": "code",
   "execution_count": 117,
   "id": "743ab4e9-8273-493f-a33f-d8929fefaea7",
   "metadata": {},
   "outputs": [],
   "source": [
    "# 3. Reverse the given array in-place, means without using any extra data structure.\n",
    "# arr = [2, 4, 5, 7, 9, 12]\n",
    "# Output = [12, 9, 7, 5, 4, 2]\n",
    "def reverse(arr,n): ##this function is used to reverse an list(array)\n",
    "    ans = [] ##take an ans list store result\n",
    "    for i in range(n-1,-1,-1): ##for start from size of list -1 to -1 \n",
    "        ans.append(arr[i]) #append ans to ans \n",
    "    return ans #return ans\n",
    "\n",
    "# # another method of reverse\n",
    "# def reverse(arr):\n",
    "#     return arr[::-1]"
   ]
  },
  {
   "cell_type": "code",
   "execution_count": 118,
   "id": "39faa92f-f9d1-4a05-8a71-3a7a0a76e130",
   "metadata": {},
   "outputs": [
    {
     "data": {
      "text/plain": [
       "[12, 9, 7, 5, 4, 2]"
      ]
     },
     "execution_count": 121,
     "metadata": {},
     "output_type": "execute_result"
    }
   ],
   "source": [
    "arr = [2, 4, 5, 7, 9, 12]\n",
    "n = len(arr)\n",
    "reverse(arr,n)\n",
    "\n",
    "# # another methd\n",
    "# reverse(arr)"
   ]
  },
  {
   "cell_type": "code",
   "execution_count": 122,
   "id": "1976cb26-7e88-4fe5-95cc-c92d5a1ccc70",
   "metadata": {},
   "outputs": [
    {
     "data": {
      "text/plain": [
       "20"
      ]
     },
     "execution_count": 122,
     "metadata": {},
     "output_type": "execute_result"
    }
   ],
   "source": [
    "# 4. Given an array of integers, find the maximum element in an array\n",
    "# arr = [10, 5, 20, 8, 15]\n",
    "# Output = 20\n",
    "\n",
    "def maximum_element(arr): ##this function is used to return maximum element from the list\n",
    "    maxi = -1 ##my approach is define a variable maxi assign a negetive number which as smallst number and \n",
    "    for i in arr: ##run a loop which iterate all element one by one if arr's element is greater then maxi then assign this element to maxi\n",
    "        if(i>maxi):\n",
    "            maxi = i\n",
    "    return maxi ##and after completion of loop return maxi to driver code\n",
    "arr = [10, 5, 20, 8, 15]\n",
    "print(maximum_element(arr))\n",
    "\n"
   ]
  },
  {
   "cell_type": "code",
   "execution_count": 134,
   "id": "2854148b-489f-4b0d-be87-44ae85d46884",
   "metadata": {},
   "outputs": [
    {
     "name": "stdout",
     "output_type": "stream",
     "text": [
      "[1, 2, 3, 4, 5]\n"
     ]
    }
   ],
   "source": [
    "# 5. Given a sorted array, remove the duplicate element without using any extra data structure.\n",
    "# arr = [1, 1, 2, 2, 2, 3, 3, 4, 4, 4, 5, 5]\n",
    "# Output = [1, 2, 3, 4, 5]\n",
    "def removed_deplicate(arr): ##this function is used to return a sorted array, remove the duplicate element without using any extra data structure.\n",
    "   ##in this approach i am using an ans variable which store ans it self and using while loop if arr[i]!=arr[i+1] then store arr[i] and simply increment i by 1 else increment i by 1 at last i store last element manually and return ans\n",
    "    ans = []\n",
    "    i = 0 \n",
    "    while(i<len(arr)-1):\n",
    "        if(arr[i]!=arr[i+1]):\n",
    "            ans.append(arr[i])\n",
    "            i+=1\n",
    "        else:\n",
    "            i+=1\n",
    "    ans.append(arr[-1])\n",
    "    return ans\n",
    "        \n",
    "\n",
    "arr = [1, 1, 2, 2, 2, 3, 3, 4, 4, 4, 5, 5]\n",
    "print(removed_deplicate(arr))\n",
    "    "
   ]
  }
 ],
 "metadata": {
  "kernelspec": {
   "display_name": "Python 3 (ipykernel)",
   "language": "python",
   "name": "python3"
  },
  "language_info": {
   "codemirror_mode": {
    "name": "ipython",
    "version": 3
   },
   "file_extension": ".py",
   "mimetype": "text/x-python",
   "name": "python",
   "nbconvert_exporter": "python",
   "pygments_lexer": "ipython3",
   "version": "3.10.8"
  }
 },
 "nbformat": 4,
 "nbformat_minor": 5
}
